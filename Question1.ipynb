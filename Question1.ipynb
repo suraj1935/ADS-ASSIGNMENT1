{
  "nbformat": 4,
  "nbformat_minor": 0,
  "metadata": {
    "colab": {
      "provenance": []
    },
    "kernelspec": {
      "name": "python3",
      "display_name": "Python 3"
    },
    "language_info": {
      "name": "python"
    }
  },
  "cells": [
    {
      "cell_type": "code",
      "execution_count": 1,
      "metadata": {
        "id": "-OD31i99XnGg"
      },
      "outputs": [],
      "source": [
        "import spacy\n",
        "from spacy.matcher import Matcher"
      ]
    },
    {
      "cell_type": "code",
      "source": [
        "nlp = spacy.load(\"en_core_web_sm\")"
      ],
      "metadata": {
        "id": "qL3-2oagXoXw"
      },
      "execution_count": 2,
      "outputs": []
    },
    {
      "cell_type": "code",
      "source": [
        "input_file_path =\"/content/Input file.txt\"\n",
        "output_file_path =\"/content/output.txt\""
      ],
      "metadata": {
        "id": "0Sd30aVDXsI-"
      },
      "execution_count": 3,
      "outputs": []
    },
    {
      "cell_type": "code",
      "source": [
        "# Read the input file\n",
        "with open(input_file_path, \"r\") as f:\n",
        "    text = f.read()"
      ],
      "metadata": {
        "id": "Sclm7m8mXs5K"
      },
      "execution_count": 10,
      "outputs": []
    },
    {
      "cell_type": "code",
      "source": [
        "# Process the text using spaCy\n",
        "doc = nlp(text)"
      ],
      "metadata": {
        "id": "mXWL9OxCXvTu"
      },
      "execution_count": 11,
      "outputs": []
    },
    {
      "cell_type": "code",
      "source": [
        "# Initialize an empty list to store the named entities\n",
        "entities = []"
      ],
      "metadata": {
        "id": "0MoMFmEiXxba"
      },
      "execution_count": 12,
      "outputs": []
    },
    {
      "cell_type": "code",
      "source": [
        "# Iterate through the named entities in the document\n",
        "for ent in doc.ents:\n",
        "    # Append the named entity to the list\n",
        "    entities.append((ent.text, ent.start_char, ent.end_char, ent.label_))"
      ],
      "metadata": {
        "id": "0EKKrmAuXzx7"
      },
      "execution_count": 13,
      "outputs": []
    },
    {
      "cell_type": "code",
      "source": [
        "# Write the named entities to the output file\n",
        "with open(output_file_path, \"w\") as f:\n",
        "    for ent in entities:\n",
        "        f.write(f\"{ent[0]} {ent[1]} {ent[2]} {ent[3]}\\n\")"
      ],
      "metadata": {
        "id": "ydwa8mhhX1_2"
      },
      "execution_count": 14,
      "outputs": []
    },
    {
      "cell_type": "code",
      "source": [
        "print(\"Named entities have been written to the output file.\")"
      ],
      "metadata": {
        "colab": {
          "base_uri": "https://localhost:8080/"
        },
        "id": "NhPw9OrSX4e9",
        "outputId": "a4b95f6e-f686-4e1c-bc20-3290d3fb43ff"
      },
      "execution_count": 15,
      "outputs": [
        {
          "output_type": "stream",
          "name": "stdout",
          "text": [
            "Named entities have been written to the output file.\n"
          ]
        }
      ]
    }
  ]
}